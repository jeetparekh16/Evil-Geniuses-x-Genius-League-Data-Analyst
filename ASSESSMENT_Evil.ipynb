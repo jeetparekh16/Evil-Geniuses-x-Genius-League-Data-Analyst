{
 "cells": [
  {
   "cell_type": "code",
   "execution_count": 11,
   "id": "c90a1b1a-b65a-406a-a389-4736556bb70c",
   "metadata": {},
   "outputs": [],
   "source": [
    "# Load the data\n",
    "df = pd.read_excel('social_data.xlsx')\n",
    "\n",
    "# Remove rows where 'Campaign Name' is 'N/A' and 'Total Impressions' is 0\n",
    "df = df[df['Campaign Name'] != 'N/A']\n",
    "df = df[df['Total Impressions'] != 0]\n"
   ]
  },
  {
   "cell_type": "markdown",
   "id": "96a1c3bc-c714-4100-a00b-5c98bc1b6a70",
   "metadata": {},
   "source": [
    "Remove rows with 'Campaign Name' as 'N/A' to avoid skewed analysis. If 'Total Impressions' is 0, 'Total Engagements' cannot be higher, leading to deflated engagement rates.\n",
    "Therefore, I decided to remove these rows.\n"
   ]
  },
  {
   "cell_type": "markdown",
   "id": "f8acdcfa-ce48-43d9-a34a-20ca9a993266",
   "metadata": {},
   "source": [
    "1. Engagement Rate Calculation"
   ]
  },
  {
   "cell_type": "code",
   "execution_count": 12,
   "id": "f5e64727-1d0b-4719-8f1d-ea898fa66e73",
   "metadata": {},
   "outputs": [
    {
     "name": "stdout",
     "output_type": "stream",
     "text": [
      "Average Engagement Rate: 40.49262176120076%\n",
      "Likelihood of achieving 15% engagement rate: 8.263254113345521%\n"
     ]
    }
   ],
   "source": [
    "import pandas as pd\n",
    "\n",
    "# Calculate the engagement rate and add it as a new column in the dataframe\n",
    "df['Engagement Rate'] = df['Total Engagements'] / df['Total Impressions'] * 100\n",
    "\n",
    "# Print the average engagement rate\n",
    "average_engagement_rate = df['Engagement Rate'].mean()\n",
    "print(f\"Average Engagement Rate: {average_engagement_rate}%\")\n",
    "\n",
    "# Print the likelihood of achieving 15% engagement rate\n",
    "likelihood = len(df[df['Engagement Rate'] >= 15]) / len(df) * 100\n",
    "print(f\"Likelihood of achieving 15% engagement rate: {likelihood}%\")\n"
   ]
  },
  {
   "cell_type": "markdown",
   "id": "f6d3213b-b609-4ecf-a374-92e392007c69",
   "metadata": {},
   "source": [
    "2. Time-Based Engagement Analysis\n",
    "\n",
    "Here first I need to convert 'Published Date' into a datetime object, extract day of week and hour, then group by these new columns to see their effect on engagement rate. For simplicity, I'll consider time as a whole hour the post was made."
   ]
  },
  {
   "cell_type": "code",
   "execution_count": 13,
   "id": "703ee815-cf41-4372-bcff-41344fb678ff",
   "metadata": {},
   "outputs": [],
   "source": [
    "# Convert 'Published Date' to datetime\n",
    "df['Published Date'] = pd.to_datetime(df['Published Date'])\n",
    "\n",
    "# Create new columns for day of the week and hour of the day\n",
    "df['Day of Week'] = df['Published Date'].dt.day_name()\n",
    "df['Hour of Day'] = df['Published Date'].dt.hour\n",
    "\n",
    "# Group by the new columns and calculate average engagement rate\n",
    "average_engagement_by_day = df.groupby('Day of Week')['Engagement Rate'].mean()\n",
    "average_engagement_by_hour = df.groupby('Hour of Day')['Engagement Rate'].mean()"
   ]
  },
  {
   "cell_type": "code",
   "execution_count": 14,
   "id": "10f8ff68-84ac-406a-bc5c-8f6bdd690157",
   "metadata": {},
   "outputs": [
    {
     "name": "stdout",
     "output_type": "stream",
     "text": [
      "Day of Week\n",
      "Friday       166.037491\n",
      "Monday         4.517345\n",
      "Saturday       3.779530\n",
      "Sunday         5.897657\n",
      "Thursday       9.840649\n",
      "Tuesday        6.535451\n",
      "Wednesday      4.453678\n",
      "Name: Engagement Rate, dtype: float64\n"
     ]
    }
   ],
   "source": [
    "# Print the results\n",
    "print(average_engagement_by_day)\n"
   ]
  },
  {
   "cell_type": "code",
   "execution_count": 15,
   "id": "c110c1d9-8c74-4b65-a2c2-2e973f250b9f",
   "metadata": {},
   "outputs": [
    {
     "name": "stdout",
     "output_type": "stream",
     "text": [
      "Hour of Day\n",
      "2       0.840156\n",
      "3       5.656221\n",
      "4       5.575346\n",
      "5      11.488999\n",
      "6      20.786356\n",
      "7       6.656849\n",
      "8       7.409689\n",
      "9       6.166991\n",
      "10      4.763516\n",
      "11      9.104223\n",
      "12    396.696227\n",
      "13      4.912188\n",
      "14      5.046390\n",
      "15      4.520424\n",
      "16      5.320484\n",
      "17      5.337955\n",
      "18      4.557921\n",
      "19      4.359814\n",
      "20      4.787907\n",
      "21      6.089147\n",
      "22      2.059433\n",
      "23      2.859394\n",
      "Name: Engagement Rate, dtype: float64\n"
     ]
    }
   ],
   "source": [
    "print(average_engagement_by_hour)"
   ]
  },
  {
   "cell_type": "markdown",
   "id": "dfe94cca-7510-4bb5-839b-9c32328772e6",
   "metadata": {},
   "source": [
    "3. Game Title Performance Analysis\n",
    "\n",
    "Assuming 'Campaign Name' represents game titles, I can group by this column and calculate average engagement rate for each title."
   ]
  },
  {
   "cell_type": "code",
   "execution_count": 17,
   "id": "4ca182f8-6785-45e0-bd18-680fd68ce11a",
   "metadata": {},
   "outputs": [
    {
     "name": "stdout",
     "output_type": "stream",
     "text": [
      "Campaign Name\n",
      "Community Engagement       5.765298\n",
      "Evergreen                  3.510548\n",
      "Evil Exhibited             2.866060\n",
      "N/A                      126.066603\n",
      "Name: Engagement Rate, dtype: float64\n"
     ]
    }
   ],
   "source": [
    "# Group by 'Campaign Name' and calculate average engagement rate\n",
    "average_engagement_by_campaign = df.groupby('Campaign Name')['Engagement Rate'].mean()\n",
    "\n",
    "# Print the results\n",
    "print(average_engagement_by_campaign)\n"
   ]
  },
  {
   "cell_type": "code",
   "execution_count": 18,
   "id": "a538a594-f0d4-4295-9615-0af8f6102b7b",
   "metadata": {},
   "outputs": [
    {
     "name": "stdout",
     "output_type": "stream",
     "text": [
      "Game to focus more on: N/A \n",
      "Game to focus less on: Evil Exhibited \n"
     ]
    }
   ],
   "source": [
    "# Identify the game with the highest average engagement rate\n",
    "best_game = average_engagement_by_campaign.idxmax()\n",
    "print(f\"Game to focus more on: {best_game}\")\n",
    "\n",
    "# Identify the game with the lowest average engagement rate\n",
    "least_game = average_engagement_by_campaign.idxmin()\n",
    "print(f\"Game to focus less on: {least_game}\")\n"
   ]
  },
  {
   "cell_type": "markdown",
   "id": "fe830b22-9a51-490e-9024-b4d00c394c64",
   "metadata": {},
   "source": [
    "4. Best Performing Media Type\n",
    "\n",
    "I'll group by 'Media Type' and calculate the average engagement rate for each type."
   ]
  },
  {
   "cell_type": "code",
   "execution_count": 19,
   "id": "1dbf81d2-4888-4422-b167-4fad70cd312e",
   "metadata": {},
   "outputs": [
    {
     "name": "stdout",
     "output_type": "stream",
     "text": [
      "Media Type\n",
      "Album       40.000000\n",
      "Carousel     3.784294\n",
      "Link         3.749983\n",
      "Mixed       10.770357\n",
      "Photo       83.121288\n",
      "Text         4.083904\n",
      "Video        5.351780\n",
      "Name: Engagement Rate, dtype: float64\n"
     ]
    }
   ],
   "source": [
    "# Group by 'Media Type' and calculate average engagement rate\n",
    "average_engagement_by_media_type = df.groupby('Media Type')['Engagement Rate'].mean()\n",
    "\n",
    "# Print the results\n",
    "print(average_engagement_by_media_type)\n"
   ]
  },
  {
   "cell_type": "markdown",
   "id": "2d30346f-ae8d-4146-a8ca-19ca08e7b68e",
   "metadata": {},
   "source": [
    "5. Best Performing Campaign\n",
    "\n",
    "Assuming 'Campaign Name' represents campaigns, we can identify the best performing campaign by looking at the one with the highest average engagement rate."
   ]
  },
  {
   "cell_type": "code",
   "execution_count": 20,
   "id": "a0821093-60ef-4d10-842b-077532d8ae25",
   "metadata": {},
   "outputs": [
    {
     "name": "stdout",
     "output_type": "stream",
     "text": [
      "Best Performing Campaign: N/A \n"
     ]
    }
   ],
   "source": [
    "# Identify the best performing campaign\n",
    "best_campaign = average_engagement_by_campaign.idxmax()\n",
    "\n",
    "# Print the result\n",
    "print(f\"Best Performing Campaign: {best_campaign}\")\n"
   ]
  },
  {
   "cell_type": "markdown",
   "id": "187aa3f1-b204-49c2-9c40-fb6d66c0a4b1",
   "metadata": {},
   "source": [
    "6. Posting Strategy for Social Channels"
   ]
  },
  {
   "cell_type": "markdown",
   "id": "6135fa93-3c3e-47a1-8312-3520467ebc51",
   "metadata": {},
   "source": [
    "Days and Times: The highest engagement rate is seen on Fridays and specifically around the 12th hour of the day. Thus, if possible, prioritize posting during these times. However, remember to maintain a regular posting schedule throughout the week to keep the audience engaged.\n",
    "\n",
    "Game Titles/Campaigns: The \"N/A\" campaign has the highest engagement rate. If \"N/A\" indicates missing data, this may need further investigation. If it's a specific campaign, focus on creating more content around it. On the other hand, \"Evil Exhibited\" has the lowest engagement. This doesn't necessarily mean to stop content about \"Evil Exhibited\", but consider revisiting the content strategy for this game. Perhaps it needs more engaging or different content types.\n",
    "\n",
    "Media Type: Photos seem to be getting the highest engagement rate, followed by albums and mixed media. Continue to prioritize these types of content but also consider experiments with other formats to see if they can be optimized for better performance."
   ]
  },
  {
   "cell_type": "markdown",
   "id": "49dcf0e6-a662-44c1-9e7f-649fc66d5427",
   "metadata": {},
   "source": [
    "7. Suggestions for Social Media Expansion"
   ]
  },
  {
   "cell_type": "code",
   "execution_count": 21,
   "id": "b595ffc1-92ed-462f-87ed-6b458f2bf533",
   "metadata": {},
   "outputs": [
    {
     "name": "stdout",
     "output_type": "stream",
     "text": [
      "Account Type\n",
      "FBPAGE              237.195001\n",
      "INSTAGRAM             1.080055\n",
      "LINKEDIN_COMPANY      1.795018\n",
      "TIKTOK_BUSINESS       5.364224\n",
      "TWITTER               3.830083\n",
      "YOUTUBE               4.471692\n",
      "Name: Engagement Rate, dtype: float64\n"
     ]
    }
   ],
   "source": [
    "# Group by 'Account Type' and calculate average engagement rate\n",
    "average_engagement_by_platform = df.groupby('Account Type')['Engagement Rate'].mean()\n",
    "\n",
    "# Print the results\n",
    "print(average_engagement_by_platform)\n"
   ]
  },
  {
   "cell_type": "code",
   "execution_count": 22,
   "id": "8139a912-c483-4b86-a2dd-c02d35568471",
   "metadata": {},
   "outputs": [
    {
     "name": "stdout",
     "output_type": "stream",
     "text": [
      "Best Performing Platform: FBPAGE\n"
     ]
    }
   ],
   "source": [
    "# Identify the best performing platform\n",
    "best_platform = average_engagement_by_platform.idxmax()\n",
    "\n",
    "# Print the result\n",
    "print(f\"Best Performing Platform: {best_platform}\")\n"
   ]
  },
  {
   "cell_type": "code",
   "execution_count": 23,
   "id": "53043aac-3308-4ef0-b4f1-d65879e41594",
   "metadata": {},
   "outputs": [
    {
     "data": {
      "image/png": "[encoded data removed]",
      "text/plain": [
       "<Figure size 432x288 with 1 Axes>"
      ]
     },
     "metadata": {
      "needs_background": "light"
     },
     "output_type": "display_data"
    }
   ],
   "source": [
    "import matplotlib.pyplot as plt\n",
    "\n",
    "# Plot the results\n",
    "average_engagement_by_platform.plot(kind='bar')\n",
    "plt.title('Average Engagement Rate by Platform')\n",
    "plt.xlabel('Platform')\n",
    "plt.ylabel('Average Engagement Rate')\n",
    "plt.show()\n"
   ]
  },
  {
   "cell_type": "markdown",
   "id": "d32252de-a7aa-410a-9826-99ec44c9458f",
   "metadata": {},
   "source": [
    "Based on the Results above, here are some recommendations for the social media team regarding expanding their presence:\n",
    "\n",
    "Platform Utilization: It's apparent that the Facebook page (FBPAGE) has a significantly higher engagement rate compared to the other platforms. Hence, it might be beneficial to focus more efforts on Facebook, such as sharing more content, boosting posts, or running ads.\n",
    "\n",
    "Potential on TikTok: Although TikTok_BUSINESS has a lower engagement rate compared to Facebook, it outperforms LinkedIn_COMPANY, Instagram, and Twitter in terms of engagement. Given TikTok's popularity and its unique content consumption dynamics, it could be beneficial to explore more content strategies on this platform. Short, engaging videos relevant to the game could be created to attract more attention.\n",
    "\n",
    "Optimize Instagram Strategy: Instagram has the lowest engagement rate, which might be an area of concern. However, it's also a platform with a lot of potential due to its focus on visual content and its large user base. Reconsider your Instagram strategy - you might need more visually appealing content, better use of hashtags, or collaborations with influencers to boost your presence on Instagram.\n",
    "\n",
    "YouTube Gaming Content: The engagement rate on YouTube is not far behind TikTok and Twitter. As YouTube is a platform primarily focused on video content, consider creating more compelling and engaging video content. Walkthroughs, gameplay showcases, tutorials, developer interviews, and fan-created content are all popular formats on YouTube for gaming channels.\n",
    "\n",
    "LinkedIn Company Presence: LinkedIn engagement rates aren't high, but remember that LinkedIn serves a different audience and purpose compared to other platforms. If you wish to share company news, job postings, or business-related content, LinkedIn is the platform to use.\n",
    "\n",
    "Twitter Engagement: Twitter falls in the middle in terms of engagement rate. It can be used effectively for real-time communication, announcing updates, and interacting directly with fans. Make sure to take full advantage of its unique features, like threads and hashtags.\n",
    "\n",
    "In conclusion, remember that each social media platform has its unique style, algorithm, and audience. Tailor the content to suit the platform rather than reposting the same content across all platforms. Also, engage with your audience across all platforms - respond to comments, create discussions, and show appreciation for user-generated content. These strategies can help foster a more engaged and loyal fanbase."
   ]
  },
  {
   "cell_type": "code",
   "execution_count": null,
   "id": "915af4ce-1989-4266-aa62-43c6122eecc5",
   "metadata": {},
   "outputs": [],
   "source": []
  }
 ],
 "metadata": {
  "kernelspec": {
   "display_name": "Python 3 (ipykernel)",
   "language": "python",
   "name": "python3"
  },
  "language_info": {
   "codemirror_mode": {
    "name": "ipython",
    "version": 3
   },
   "file_extension": ".py",
   "mimetype": "text/x-python",
   "name": "python",
   "nbconvert_exporter": "python",
   "pygments_lexer": "ipython3",
   "version": "3.9.7"
  }
 },
 "nbformat": 4,
 "nbformat_minor": 5
}
